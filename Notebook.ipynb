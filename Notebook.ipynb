{
 "cells": [
  {
   "cell_type": "markdown",
   "id": "33b4728a-0671-4c15-8fd0-ae008e8a437c",
   "metadata": {},
   "source": [
    "#  When Was the Golden Age of Video Games? \n",
    "Video games are big business: the global gaming market is projected to be worth more than $300 billion by 2027 according to Mordor Intelligence. With so much money at stake, the major game publishers are hugely incentivized to create the next big hit. But are games getting better, or has the golden age of video games already passed?\n",
    "\n",
    "In this project, I will explore the top 400 best-selling video games created between 1977 and 2020. I will compare a dataset on game sales with critic and user reviews to determine whether or not video games have improved as the gaming market has grown.\n",
    "\n",
    "After I created my database from two csv files, it contains two tables:\n",
    "\n",
    "**game_sales**\n",
    "\n",
    "| column | type | meaning |\n",
    "| :- | -: | :-: |\n",
    "| game       | varchar | Name of the video game\n",
    "| platform   | varchar | Gaming platform\n",
    "| publisher  |  varchar | Game publisher\n",
    "| developer   | varchar | Game developer\n",
    "| games_sold  | float | Number of copies sold (millions)\n",
    "| year    | int |  Release year\n",
    "\n",
    "**reviews**\n",
    "\n",
    "|column|type|meaning\n",
    "| --- | --- | --- |\n",
    "|game|varchar|Name of the video game\n",
    "|critic_score|float|Critic score according to Metacritic\n",
    "|user_score|float|User score according to Metacritic"
   ]
  },
  {
   "cell_type": "code",
   "execution_count": 1,
   "id": "390a99e3-9fa2-4e49-a5a3-aafa436c78ff",
   "metadata": {},
   "outputs": [],
   "source": [
    "# Import required modules\n",
    "import sqlite3\n",
    "import csv\n",
    "from sqlalchemy import create_engine, inspect, text\n",
    "import pandas as pd"
   ]
  },
  {
   "cell_type": "markdown",
   "id": "355bcc55-a143-425c-b5b1-d93eab9f580f",
   "metadata": {},
   "source": [
    "## 1.The ten best-selling video games\n",
    "First I creat the game_sales database and I import the two CSV files content into our SQLite database table.\n",
    "After that I start my analyze by looking at some of the top selling video games of all time."
   ]
  },
  {
   "cell_type": "code",
   "execution_count": 2,
   "id": "1102baf5-526b-4358-bc53-c3e8486033ab",
   "metadata": {},
   "outputs": [],
   "source": [
    "# Creating a o connection to the database\n",
    "connection = sqlite3.connect('database.sqlite')"
   ]
  },
  {
   "cell_type": "code",
   "execution_count": 3,
   "id": "9a9f91c6-082c-4421-bc99-1e2d5895d79e",
   "metadata": {},
   "outputs": [],
   "source": [
    "# Creating a cursor object to execute SQL queries \n",
    "cursor = connection.cursor()"
   ]
  },
  {
   "cell_type": "code",
   "execution_count": 4,
   "id": "77301c96-9ad2-480f-abdb-85c85ea102ff",
   "metadata": {},
   "outputs": [
    {
     "data": {
      "text/plain": [
       "<sqlite3.Cursor at 0x1b9b7ef2240>"
      ]
     },
     "execution_count": 4,
     "metadata": {},
     "output_type": "execute_result"
    }
   ],
   "source": [
    "# Creating game_sales table in the database\n",
    "cursor.execute('''DROP TABLE game_sales''')\n",
    "cursor.execute('''CREATE TABLE game_sales (\n",
    "  game VARCHAR(100) PRIMARY KEY,\n",
    "  platform VARCHAR(64),\n",
    "  publisher VARCHAR(64),\n",
    "  developer VARCHAR(64),\n",
    "  games_sold NUMERIC(5, 2),\n",
    "  year INT\n",
    ");\n",
    "''')"
   ]
  },
  {
   "cell_type": "code",
   "execution_count": 5,
   "id": "bd3b8ec6-eb81-43bb-bed6-5031aef8dc6f",
   "metadata": {},
   "outputs": [
    {
     "data": {
      "text/plain": [
       "<sqlite3.Cursor at 0x1b9b7ef2240>"
      ]
     },
     "execution_count": 5,
     "metadata": {},
     "output_type": "execute_result"
    }
   ],
   "source": [
    "# Creating reviews table in the database\n",
    "cursor.execute('''DROP TABLE reviews''')\n",
    "cursor.execute('''CREATE TABLE reviews (\n",
    "    game VARCHAR(100) PRIMARY KEY,\n",
    "    critic_score NUMERIC(4, 2),   \n",
    "    user_score NUMERIC(4, 2)\n",
    ");\n",
    "''')"
   ]
  },
  {
   "cell_type": "code",
   "execution_count": 6,
   "id": "d61236e9-9048-456f-a8fd-7c9b997c384d",
   "metadata": {},
   "outputs": [],
   "source": [
    "# Opening the csv file\n",
    "file1 = open('game_sales.csv')\n",
    "file2 = open('game_reviews.csv')"
   ]
  },
  {
   "cell_type": "code",
   "execution_count": 7,
   "id": "f81e2a8e-af21-4040-8ffa-3a83238fe4cb",
   "metadata": {},
   "outputs": [],
   "source": [
    "# Reading the contents of the csv file\n",
    "first_row1 = next(csv.reader(file1)) # Skip the first row\n",
    "content1 = csv.reader(file1)\n",
    "first_row2 = next(csv.reader(file2)) # Skip the first row\n",
    "content2 = csv.reader(file2)"
   ]
  },
  {
   "cell_type": "code",
   "execution_count": 8,
   "id": "e4b1ef87-6309-4198-94f2-5df6b8e0f603",
   "metadata": {},
   "outputs": [],
   "source": [
    "# Importing the contents of the file into tabel\n",
    "cursor.executemany('INSERT INTO game_sales VALUES (?, ?, ?, ?, ?, ?)', content1)\n",
    "cursor.executemany('INSERT INTO  reviews VALUES (?, ?, ?)', content2)\n",
    "connection.commit()"
   ]
  },
  {
   "cell_type": "code",
   "execution_count": 9,
   "id": "78d2d51f-a5e4-43c7-9c0e-0f635559ac5a",
   "metadata": {},
   "outputs": [],
   "source": [
    "# SQL query to retrive 10 rows from the tabel to verify that the data from csv file was inserted into the table\n",
    "rows1 = cursor.execute('SELECT * FROM game_sales LIMIT 10').fetchall()\n",
    "rows2 = cursor.execute('SELECT * FROM reviews LIMIT 10').fetchall()"
   ]
  },
  {
   "cell_type": "code",
   "execution_count": 10,
   "id": "2d725689-b802-43be-bb37-3c03b69ba938",
   "metadata": {},
   "outputs": [
    {
     "data": {
      "text/plain": [
       "[(0, 'game', 'VARCHAR(100)', 0, None, 1),\n",
       " (1, 'platform', 'VARCHAR(64)', 0, None, 0),\n",
       " (2, 'publisher', 'VARCHAR(64)', 0, None, 0),\n",
       " (3, 'developer', 'VARCHAR(64)', 0, None, 0),\n",
       " (4, 'games_sold', 'NUMERIC(5, 2)', 0, None, 0),\n",
       " (5, 'year', 'INT', 0, None, 0)]"
      ]
     },
     "execution_count": 10,
     "metadata": {},
     "output_type": "execute_result"
    }
   ],
   "source": [
    "# Display the name and data type of every column of the game_sales table \n",
    "content_tabe1 = cursor.execute('PRAGMA table_info (game_sales)').fetchall()\n",
    "content_tabe1 "
   ]
  },
  {
   "cell_type": "code",
   "execution_count": 11,
   "id": "da98de6d-a48b-4ede-97ed-eaf61038e118",
   "metadata": {},
   "outputs": [
    {
     "data": {
      "text/plain": [
       "[(0, 'game', 'VARCHAR(100)', 0, None, 1),\n",
       " (1, 'critic_score', 'NUMERIC(4, 2)', 0, None, 0),\n",
       " (2, 'user_score', 'NUMERIC(4, 2)', 0, None, 0)]"
      ]
     },
     "execution_count": 11,
     "metadata": {},
     "output_type": "execute_result"
    }
   ],
   "source": [
    "# Display the name and data type of every column of the reviews table \n",
    "content_tabe2 = cursor.execute('PRAGMA table_info (reviews)').fetchall()\n",
    "content_tabe2"
   ]
  },
  {
   "cell_type": "code",
   "execution_count": 12,
   "id": "99a80ad6-2280-46f1-8722-4cd605750b2f",
   "metadata": {},
   "outputs": [
    {
     "data": {
      "text/html": [
       "<div>\n",
       "<style scoped>\n",
       "    .dataframe tbody tr th:only-of-type {\n",
       "        vertical-align: middle;\n",
       "    }\n",
       "\n",
       "    .dataframe tbody tr th {\n",
       "        vertical-align: top;\n",
       "    }\n",
       "\n",
       "    .dataframe thead th {\n",
       "        text-align: right;\n",
       "    }\n",
       "</style>\n",
       "<table border=\"1\" class=\"dataframe\">\n",
       "  <thead>\n",
       "    <tr style=\"text-align: right;\">\n",
       "      <th></th>\n",
       "      <th>game</th>\n",
       "      <th>platform</th>\n",
       "      <th>publisher</th>\n",
       "      <th>developer</th>\n",
       "      <th>games_sold</th>\n",
       "      <th>year</th>\n",
       "    </tr>\n",
       "  </thead>\n",
       "  <tbody>\n",
       "    <tr>\n",
       "      <th>0</th>\n",
       "      <td>7 Days to Die for PC</td>\n",
       "      <td>PC</td>\n",
       "      <td>The Fun Pimps</td>\n",
       "      <td>The Fun Pimps</td>\n",
       "      <td>4.18</td>\n",
       "      <td>2013</td>\n",
       "    </tr>\n",
       "    <tr>\n",
       "      <th>1</th>\n",
       "      <td>ARK: Survival Evolved for PC</td>\n",
       "      <td>PC</td>\n",
       "      <td>Studio Wildcard</td>\n",
       "      <td>Studio Wildcard</td>\n",
       "      <td>4.50</td>\n",
       "      <td>2015</td>\n",
       "    </tr>\n",
       "    <tr>\n",
       "      <th>2</th>\n",
       "      <td>Age of Empires II: HD Edition for PC</td>\n",
       "      <td>PC</td>\n",
       "      <td>Microsoft Studios</td>\n",
       "      <td>Hidden Path Entertainment</td>\n",
       "      <td>5.82</td>\n",
       "      <td>2013</td>\n",
       "    </tr>\n",
       "    <tr>\n",
       "      <th>3</th>\n",
       "      <td>Animal Crossing: City Folk for Wii</td>\n",
       "      <td>Wii</td>\n",
       "      <td>Nintendo</td>\n",
       "      <td>Nintendo EAD</td>\n",
       "      <td>4.32</td>\n",
       "      <td>2008</td>\n",
       "    </tr>\n",
       "    <tr>\n",
       "      <th>4</th>\n",
       "      <td>Animal Crossing: New Horizons for NS</td>\n",
       "      <td>NS</td>\n",
       "      <td>Nintendo</td>\n",
       "      <td>Nintendo</td>\n",
       "      <td>13.41</td>\n",
       "      <td>2020</td>\n",
       "    </tr>\n",
       "    <tr>\n",
       "      <th>5</th>\n",
       "      <td>Animal Crossing: New Leaf for 3DS</td>\n",
       "      <td>3DS</td>\n",
       "      <td>Nintendo</td>\n",
       "      <td>Nintendo EAD</td>\n",
       "      <td>12.55</td>\n",
       "      <td>2013</td>\n",
       "    </tr>\n",
       "    <tr>\n",
       "      <th>6</th>\n",
       "      <td>Animal Crossing: Wild World for DS</td>\n",
       "      <td>DS</td>\n",
       "      <td>Nintendo</td>\n",
       "      <td>Nintendo EAD</td>\n",
       "      <td>11.75</td>\n",
       "      <td>2005</td>\n",
       "    </tr>\n",
       "    <tr>\n",
       "      <th>7</th>\n",
       "      <td>Arma 2: Operation Arrowhead for PC</td>\n",
       "      <td>PC</td>\n",
       "      <td>Meridian4</td>\n",
       "      <td>Bohemia Interactive</td>\n",
       "      <td>4.51</td>\n",
       "      <td>2010</td>\n",
       "    </tr>\n",
       "    <tr>\n",
       "      <th>8</th>\n",
       "      <td>Arma III for PC</td>\n",
       "      <td>PC</td>\n",
       "      <td>Bohemia Interactive</td>\n",
       "      <td>Bohemia Interactive</td>\n",
       "      <td>4.00</td>\n",
       "      <td>2013</td>\n",
       "    </tr>\n",
       "    <tr>\n",
       "      <th>9</th>\n",
       "      <td>Assassin's Creed II for PS3</td>\n",
       "      <td>PS3</td>\n",
       "      <td>Ubisoft</td>\n",
       "      <td>Ubisoft Montreal</td>\n",
       "      <td>5.57</td>\n",
       "      <td>2009</td>\n",
       "    </tr>\n",
       "  </tbody>\n",
       "</table>\n",
       "</div>"
      ],
      "text/plain": [
       "                                   game platform            publisher  \\\n",
       "0                  7 Days to Die for PC       PC        The Fun Pimps   \n",
       "1          ARK: Survival Evolved for PC       PC      Studio Wildcard   \n",
       "2  Age of Empires II: HD Edition for PC       PC    Microsoft Studios   \n",
       "3    Animal Crossing: City Folk for Wii      Wii             Nintendo   \n",
       "4  Animal Crossing: New Horizons for NS       NS             Nintendo   \n",
       "5     Animal Crossing: New Leaf for 3DS      3DS             Nintendo   \n",
       "6    Animal Crossing: Wild World for DS       DS             Nintendo   \n",
       "7    Arma 2: Operation Arrowhead for PC       PC            Meridian4   \n",
       "8                       Arma III for PC       PC  Bohemia Interactive   \n",
       "9           Assassin's Creed II for PS3      PS3              Ubisoft   \n",
       "\n",
       "                   developer  games_sold  year  \n",
       "0              The Fun Pimps        4.18  2013  \n",
       "1            Studio Wildcard        4.50  2015  \n",
       "2  Hidden Path Entertainment        5.82  2013  \n",
       "3               Nintendo EAD        4.32  2008  \n",
       "4                   Nintendo       13.41  2020  \n",
       "5               Nintendo EAD       12.55  2013  \n",
       "6               Nintendo EAD       11.75  2005  \n",
       "7        Bohemia Interactive        4.51  2010  \n",
       "8        Bohemia Interactive        4.00  2013  \n",
       "9           Ubisoft Montreal        5.57  2009  "
      ]
     },
     "execution_count": 12,
     "metadata": {},
     "output_type": "execute_result"
    }
   ],
   "source": [
    "# Output to the consol screen from game_sales tabel\n",
    "game_sales = pd.DataFrame(rows1, columns = [x[1] for x in content_tabe1])\n",
    "game_sales"
   ]
  },
  {
   "cell_type": "code",
   "execution_count": 13,
   "id": "98361b20-07bf-46c7-b45b-a8b835ab2fa7",
   "metadata": {},
   "outputs": [
    {
     "data": {
      "text/html": [
       "<div>\n",
       "<style scoped>\n",
       "    .dataframe tbody tr th:only-of-type {\n",
       "        vertical-align: middle;\n",
       "    }\n",
       "\n",
       "    .dataframe tbody tr th {\n",
       "        vertical-align: top;\n",
       "    }\n",
       "\n",
       "    .dataframe thead th {\n",
       "        text-align: right;\n",
       "    }\n",
       "</style>\n",
       "<table border=\"1\" class=\"dataframe\">\n",
       "  <thead>\n",
       "    <tr style=\"text-align: right;\">\n",
       "      <th></th>\n",
       "      <th>game</th>\n",
       "      <th>critic_score</th>\n",
       "      <th>user_score</th>\n",
       "    </tr>\n",
       "  </thead>\n",
       "  <tbody>\n",
       "    <tr>\n",
       "      <th>0</th>\n",
       "      <td>Wii Sports for Wii</td>\n",
       "      <td>7.7</td>\n",
       "      <td>8.0</td>\n",
       "    </tr>\n",
       "    <tr>\n",
       "      <th>1</th>\n",
       "      <td>Super Mario Bros. for NES</td>\n",
       "      <td>10.0</td>\n",
       "      <td>8.2</td>\n",
       "    </tr>\n",
       "    <tr>\n",
       "      <th>2</th>\n",
       "      <td>Counter-Strike: Global Offensive for PC</td>\n",
       "      <td>8.0</td>\n",
       "      <td>7.5</td>\n",
       "    </tr>\n",
       "    <tr>\n",
       "      <th>3</th>\n",
       "      <td>Mario Kart Wii for Wii</td>\n",
       "      <td>8.2</td>\n",
       "      <td>9.1</td>\n",
       "    </tr>\n",
       "    <tr>\n",
       "      <th>4</th>\n",
       "      <td>PLAYERUNKNOWN'S BATTLEGROUNDS for PC</td>\n",
       "      <td>8.6</td>\n",
       "      <td>4.7</td>\n",
       "    </tr>\n",
       "    <tr>\n",
       "      <th>5</th>\n",
       "      <td>Minecraft for PC</td>\n",
       "      <td>10.0</td>\n",
       "      <td>7.8</td>\n",
       "    </tr>\n",
       "    <tr>\n",
       "      <th>6</th>\n",
       "      <td>Wii Sports Resort for Wii</td>\n",
       "      <td>8.0</td>\n",
       "      <td>8.8</td>\n",
       "    </tr>\n",
       "    <tr>\n",
       "      <th>7</th>\n",
       "      <td>Pokemon Red / Green / Blue Version for GB</td>\n",
       "      <td>9.4</td>\n",
       "      <td>8.8</td>\n",
       "    </tr>\n",
       "    <tr>\n",
       "      <th>8</th>\n",
       "      <td>New Super Mario Bros. for DS</td>\n",
       "      <td>9.1</td>\n",
       "      <td>8.1</td>\n",
       "    </tr>\n",
       "    <tr>\n",
       "      <th>9</th>\n",
       "      <td>New Super Mario Bros. Wii for Wii</td>\n",
       "      <td>8.6</td>\n",
       "      <td>9.2</td>\n",
       "    </tr>\n",
       "  </tbody>\n",
       "</table>\n",
       "</div>"
      ],
      "text/plain": [
       "                                        game  critic_score  user_score\n",
       "0                         Wii Sports for Wii           7.7         8.0\n",
       "1                  Super Mario Bros. for NES          10.0         8.2\n",
       "2    Counter-Strike: Global Offensive for PC           8.0         7.5\n",
       "3                     Mario Kart Wii for Wii           8.2         9.1\n",
       "4       PLAYERUNKNOWN'S BATTLEGROUNDS for PC           8.6         4.7\n",
       "5                           Minecraft for PC          10.0         7.8\n",
       "6                  Wii Sports Resort for Wii           8.0         8.8\n",
       "7  Pokemon Red / Green / Blue Version for GB           9.4         8.8\n",
       "8               New Super Mario Bros. for DS           9.1         8.1\n",
       "9          New Super Mario Bros. Wii for Wii           8.6         9.2"
      ]
     },
     "execution_count": 13,
     "metadata": {},
     "output_type": "execute_result"
    }
   ],
   "source": [
    "# Output to the consol screen from reviews tabel\n",
    "reviews = pd.DataFrame(rows2, columns=[x[1] for x in content_tabe2])\n",
    "reviews"
   ]
  },
  {
   "cell_type": "code",
   "execution_count": 14,
   "id": "f6b07996-75f0-46d1-9f08-24a454d31969",
   "metadata": {},
   "outputs": [
    {
     "data": {
      "text/html": [
       "<div>\n",
       "<style scoped>\n",
       "    .dataframe tbody tr th:only-of-type {\n",
       "        vertical-align: middle;\n",
       "    }\n",
       "\n",
       "    .dataframe tbody tr th {\n",
       "        vertical-align: top;\n",
       "    }\n",
       "\n",
       "    .dataframe thead th {\n",
       "        text-align: right;\n",
       "    }\n",
       "</style>\n",
       "<table border=\"1\" class=\"dataframe\">\n",
       "  <thead>\n",
       "    <tr style=\"text-align: right;\">\n",
       "      <th></th>\n",
       "      <th>game</th>\n",
       "      <th>platform</th>\n",
       "      <th>publisher</th>\n",
       "      <th>developer</th>\n",
       "      <th>games_sold</th>\n",
       "      <th>year</th>\n",
       "    </tr>\n",
       "  </thead>\n",
       "  <tbody>\n",
       "    <tr>\n",
       "      <th>1</th>\n",
       "      <td>Super Mario Bros. for NES</td>\n",
       "      <td>NES</td>\n",
       "      <td>Nintendo</td>\n",
       "      <td>Nintendo EAD</td>\n",
       "      <td>40.24</td>\n",
       "      <td>1985</td>\n",
       "    </tr>\n",
       "    <tr>\n",
       "      <th>7</th>\n",
       "      <td>Pokemon Red / Green / Blue Version for GB</td>\n",
       "      <td>GB</td>\n",
       "      <td>Nintendo</td>\n",
       "      <td>Game Freak</td>\n",
       "      <td>31.38</td>\n",
       "      <td>1998</td>\n",
       "    </tr>\n",
       "    <tr>\n",
       "      <th>0</th>\n",
       "      <td>Wii Sports for Wii</td>\n",
       "      <td>Wii</td>\n",
       "      <td>Nintendo</td>\n",
       "      <td>Nintendo EAD</td>\n",
       "      <td>82.90</td>\n",
       "      <td>2006</td>\n",
       "    </tr>\n",
       "    <tr>\n",
       "      <th>8</th>\n",
       "      <td>New Super Mario Bros. for DS</td>\n",
       "      <td>DS</td>\n",
       "      <td>Nintendo</td>\n",
       "      <td>Nintendo EAD</td>\n",
       "      <td>30.80</td>\n",
       "      <td>2006</td>\n",
       "    </tr>\n",
       "    <tr>\n",
       "      <th>3</th>\n",
       "      <td>Mario Kart Wii for Wii</td>\n",
       "      <td>Wii</td>\n",
       "      <td>Nintendo</td>\n",
       "      <td>Nintendo EAD</td>\n",
       "      <td>37.32</td>\n",
       "      <td>2008</td>\n",
       "    </tr>\n",
       "    <tr>\n",
       "      <th>6</th>\n",
       "      <td>Wii Sports Resort for Wii</td>\n",
       "      <td>Wii</td>\n",
       "      <td>Nintendo</td>\n",
       "      <td>Nintendo EAD</td>\n",
       "      <td>33.13</td>\n",
       "      <td>2009</td>\n",
       "    </tr>\n",
       "    <tr>\n",
       "      <th>9</th>\n",
       "      <td>New Super Mario Bros. Wii for Wii</td>\n",
       "      <td>Wii</td>\n",
       "      <td>Nintendo</td>\n",
       "      <td>Nintendo EAD</td>\n",
       "      <td>30.30</td>\n",
       "      <td>2009</td>\n",
       "    </tr>\n",
       "    <tr>\n",
       "      <th>5</th>\n",
       "      <td>Minecraft for PC</td>\n",
       "      <td>PC</td>\n",
       "      <td>Mojang</td>\n",
       "      <td>Mojang AB</td>\n",
       "      <td>33.15</td>\n",
       "      <td>2010</td>\n",
       "    </tr>\n",
       "    <tr>\n",
       "      <th>2</th>\n",
       "      <td>Counter-Strike: Global Offensive for PC</td>\n",
       "      <td>PC</td>\n",
       "      <td>Valve</td>\n",
       "      <td>Valve Corporation</td>\n",
       "      <td>40.00</td>\n",
       "      <td>2012</td>\n",
       "    </tr>\n",
       "    <tr>\n",
       "      <th>4</th>\n",
       "      <td>PLAYERUNKNOWN'S BATTLEGROUNDS for PC</td>\n",
       "      <td>PC</td>\n",
       "      <td>PUBG Corporation</td>\n",
       "      <td>PUBG Corporation</td>\n",
       "      <td>36.60</td>\n",
       "      <td>2017</td>\n",
       "    </tr>\n",
       "  </tbody>\n",
       "</table>\n",
       "</div>"
      ],
      "text/plain": [
       "                                        game platform         publisher  \\\n",
       "1                  Super Mario Bros. for NES      NES          Nintendo   \n",
       "7  Pokemon Red / Green / Blue Version for GB       GB          Nintendo   \n",
       "0                         Wii Sports for Wii      Wii          Nintendo   \n",
       "8               New Super Mario Bros. for DS       DS          Nintendo   \n",
       "3                     Mario Kart Wii for Wii      Wii          Nintendo   \n",
       "6                  Wii Sports Resort for Wii      Wii          Nintendo   \n",
       "9          New Super Mario Bros. Wii for Wii      Wii          Nintendo   \n",
       "5                           Minecraft for PC       PC            Mojang   \n",
       "2    Counter-Strike: Global Offensive for PC       PC             Valve   \n",
       "4       PLAYERUNKNOWN'S BATTLEGROUNDS for PC       PC  PUBG Corporation   \n",
       "\n",
       "           developer  games_sold  year  \n",
       "1       Nintendo EAD       40.24  1985  \n",
       "7         Game Freak       31.38  1998  \n",
       "0       Nintendo EAD       82.90  2006  \n",
       "8       Nintendo EAD       30.80  2006  \n",
       "3       Nintendo EAD       37.32  2008  \n",
       "6       Nintendo EAD       33.13  2009  \n",
       "9       Nintendo EAD       30.30  2009  \n",
       "5          Mojang AB       33.15  2010  \n",
       "2  Valve Corporation       40.00  2012  \n",
       "4   PUBG Corporation       36.60  2017  "
      ]
     },
     "execution_count": 14,
     "metadata": {},
     "output_type": "execute_result"
    }
   ],
   "source": [
    "# Select all information for the top ten best-selling games\n",
    "# Order the results from best-selling game down to tenth best-selling\n",
    "ts = cursor.execute('''SELECT *\n",
    "    FROM game_sales\n",
    "    ORDER BY games_sold DESC\n",
    "    LIMIT 10;''').fetchall()\n",
    "df_top_selling = pd.DataFrame(ts, columns = [x[1] for x in content_tabe1])\n",
    "df_top_selling.sort_values(by = ['year'])"
   ]
  },
  {
   "cell_type": "markdown",
   "id": "981d08d1-3511-4605-905b-579a56d1d95e",
   "metadata": {},
   "source": [
    "## 2. Missing review scores\n",
    "The best-selling video games were released between 1985 to 2017! That's quite a range; I'll have to use data from the reviews table to gain more insight on the best years for video games.\n",
    "\n",
    "First, it's important to explore the limitations of our database. One big shortcoming is that there is not any reviews data for some of the games on the game_sales table."
   ]
  },
  {
   "cell_type": "code",
   "execution_count": 15,
   "id": "862afa40-06c5-4242-8d7b-674536f62d64",
   "metadata": {},
   "outputs": [
    {
     "name": "stdout",
     "output_type": "stream",
     "text": [
      "The number of games where both critic_score and user_score are null: 31\n"
     ]
    }
   ],
   "source": [
    "# Join games_sales and reviews\n",
    "# Select a count of the number of games where both critic_score and user_score are null\n",
    "mrs = cursor.execute('''SELECT COUNT(*)\n",
    "    FROM game_sales AS g \n",
    "    LEFT JOIN reviews AS r\n",
    "    ON g.game=r.game\n",
    "    WHERE r.critic_score IS NULL AND r.user_score IS NULL;''').fetchall()\n",
    "print('The number of games where both critic_score and user_score are null:',  mrs[0][0])"
   ]
  },
  {
   "cell_type": "markdown",
   "id": "68cca2b2-bbaf-496d-b27d-c8f6987ae77d",
   "metadata": {},
   "source": [
    "## 3. Years that video game critics loved\n",
    "It looks like a little less than ten percent of the games on the game_sales table don't have any reviews data. That's a small enough percentage that I can continue my exploration.\n",
    "\n",
    "There are lots of ways to measure the best years for video games! Let's start with what the critics think."
   ]
  },
  {
   "cell_type": "code",
   "execution_count": 16,
   "id": "41a3a6e2-560d-4a1c-b0d4-a81d33ea919a",
   "metadata": {},
   "outputs": [
    {
     "name": "stdout",
     "output_type": "stream",
     "text": [
      "Top Critics Years Dataset: \n",
      "    Year  avg_critic_score\n",
      "0  1982              9.00\n",
      "1  1990              9.80\n",
      "2  1992              9.67\n",
      "3  1993              9.10\n",
      "4  1995              9.07\n",
      "5  1998              9.32\n",
      "6  1999              8.93\n",
      "7  2002              8.99\n",
      "8  2004              9.03\n",
      "9  2020              9.20\n"
     ]
    }
   ],
   "source": [
    "# Select release year and average critic score for each year, rounded and aliased\n",
    "# Join the game_sales and reviews tables\n",
    "# Group by release year\n",
    "# Order the data from highest to lowest avg_critic_score and limit to 10 results\n",
    "\n",
    "acs = cursor.execute('''SELECT year, ROUND(AVG(critic_score), 2) AS avg_critic_score\n",
    "    FROM game_sales AS g\n",
    "    INNER JOIN reviews AS r\n",
    "    ON g.game=r.game\n",
    "    GROUP BY year\n",
    "    ORDER BY avg_critic_score DESC\n",
    "    LIMIT 10;''').fetchall()\n",
    "top_critic_years = pd.DataFrame(acs, columns = ['Year','avg_critic_score']).sort_values(by =['Year']).reset_index(drop=True)\n",
    "print('Top Critics Years Dataset: \\n', top_critic_years)"
   ]
  },
  {
   "cell_type": "markdown",
   "id": "594ba00b-5327-4fc2-9974-54fe794869f3",
   "metadata": {},
   "source": [
    "## 4. Was 1982 really that great?\n",
    "The range of great years according to critic reviews goes from 1982 until 2020: I am no closer to finding the golden age of video games!\n",
    "\n",
    "Some of those avg_critic_score values look like suspiciously round numbers for averages - the value for 1982. Maybe there weren't a lot of video games in our dataset that were released in certain years.\n",
    "\n",
    "I update the previous query in order to find out whether 1982 really was such a great year for video games."
   ]
  },
  {
   "cell_type": "code",
   "execution_count": 17,
   "id": "4dbab2aa-fbcf-4397-bdc0-702e6fa30997",
   "metadata": {},
   "outputs": [
    {
     "name": "stdout",
     "output_type": "stream",
     "text": [
      "Top critics years more than four games dataset: \n",
      "    Year  avg_critic_score  num_games\n",
      "0  1998              9.32         10\n",
      "1  1999              8.93         11\n",
      "2  2001              8.82         13\n",
      "3  2002              8.99          9\n",
      "4  2004              9.03         11\n",
      "5  2008              8.63         20\n",
      "6  2011              8.76         26\n",
      "7  2013              8.66         18\n",
      "8  2016              8.67         13\n",
      "9  2017              8.62         13\n"
     ]
    }
   ],
   "source": [
    "# Update the previous query so that it only returns years that have more than four reviewed games\n",
    "acs_four_rev = cursor.execute('''SELECT year, \n",
    "    ROUND(AVG(critic_score), 2) AS avg_critic_score,\n",
    "    COUNT(*) AS num_games\n",
    "    FROM game_sales AS g\n",
    "    INNER JOIN reviews AS r\n",
    "    ON g.game=r.game\n",
    "    GROUP BY year\n",
    "    HAVING COUNT(*) > 4\n",
    "    ORDER BY avg_critic_score DESC\n",
    "    LIMIT 10;''').fetchall()\n",
    "top_critic_years_more_than_four_games = pd.DataFrame(acs_four_rev, columns = ['Year','avg_critic_score', 'num_games']).sort_values(by =['Year']).reset_index(drop='True')\n",
    "print('Top critics years more than four games dataset: \\n', top_critic_years_more_than_four_games)"
   ]
  },
  {
   "cell_type": "markdown",
   "id": "576937dc-f57b-4d31-a50f-aae3cde1d2c4",
   "metadata": {},
   "source": [
    "# 5. Years that dropped off the critics' favorites list\n",
    "The num_games column convinces me that my new list of the critics' top games reflects years that had quite a few well-reviewed games rather than just one or two hits. But which years dropped off the list due to having four or fewer reviewed games? I will identify them.\n",
    "To get started, first I will creat tables with the results of my previous two queries:"
   ]
  },
  {
   "cell_type": "code",
   "execution_count": 18,
   "id": "0a80b676-b3ee-431c-8e5e-28524301723f",
   "metadata": {},
   "outputs": [
    {
     "data": {
      "text/plain": [
       "10"
      ]
     },
     "execution_count": 18,
     "metadata": {},
     "output_type": "execute_result"
    }
   ],
   "source": [
    "# Create a referenc eengine\n",
    "engine = create_engine('sqlite:///database.sqlite')\n",
    " \n",
    "# Write records stored in a DataFrame to a SQL database\n",
    "top_critic_years.to_sql('top_critic_years', if_exists = 'replace', con = engine)\n",
    "top_critic_years_more_than_four_games.to_sql('top_critic_years_more_than_four_games', if_exists = 'replace', con = engine)"
   ]
  },
  {
   "cell_type": "code",
   "execution_count": 19,
   "id": "c95c9675-b419-4cbf-9b3d-620150a6fc05",
   "metadata": {},
   "outputs": [
    {
     "data": {
      "text/plain": [
       "['game_sales',\n",
       " 'reviews',\n",
       " 'top_critic_years',\n",
       " 'top_critic_years_more_than_four_games',\n",
       " 'top_user_years_more_than_four_games']"
      ]
     },
     "execution_count": 19,
     "metadata": {},
     "output_type": "execute_result"
    }
   ],
   "source": [
    "# Use an inspector to fetch the list of tables name\n",
    "tabel_names = inspect(engine).get_table_names()\n",
    "tabel_names"
   ]
  },
  {
   "cell_type": "code",
   "execution_count": 20,
   "id": "9a276d82-cb34-4a52-b1fe-4e93e00e35b7",
   "metadata": {},
   "outputs": [
    {
     "data": {
      "text/plain": [
       "[(0, 'index', 'BIGINT', 0, None, 0),\n",
       " (1, 'Year', 'BIGINT', 0, None, 0),\n",
       " (2, 'avg_critic_score', 'FLOAT', 0, None, 0)]"
      ]
     },
     "execution_count": 20,
     "metadata": {},
     "output_type": "execute_result"
    }
   ],
   "source": [
    "table_content3 =cursor.execute('PRAGMA table_info(top_critic_years)').fetchall()\n",
    "table_content3 "
   ]
  },
  {
   "cell_type": "code",
   "execution_count": 21,
   "id": "9253a6d2-2b7f-4905-84ca-1e7bd3e701a7",
   "metadata": {},
   "outputs": [
    {
     "name": "stdout",
     "output_type": "stream",
     "text": [
      "                 name    type  notnull dflt_value  pk\n",
      "cid                                                  \n",
      "0               index  BIGINT        0       None   0\n",
      "1                Year  BIGINT        0       None   0\n",
      "2    avg_critic_score   FLOAT        0       None   0 \n",
      "                  name    type  notnull dflt_value  pk\n",
      "cid                                                  \n",
      "0               index  BIGINT        0       None   0\n",
      "1                Year  BIGINT        0       None   0\n",
      "2    avg_critic_score   FLOAT        0       None   0\n"
     ]
    }
   ],
   "source": [
    "# Display the name and data type of every column of the new tables\n",
    "table_content3 = pd.read_sql(text('PRAGMA table_info(top_critic_years)'), engine.connect()).set_index('cid')\n",
    "table_content4 = pd.read_sql(text('PRAGMA table_info(top_critic_years)'), engine.connect()).set_index('cid')\n",
    "print(table_content3, '\\n', table_content4)"
   ]
  },
  {
   "cell_type": "code",
   "execution_count": 22,
   "id": "49fef9e1-3c00-43c5-b5c3-cf880965e908",
   "metadata": {},
   "outputs": [
    {
     "data": {
      "text/html": [
       "<div>\n",
       "<style scoped>\n",
       "    .dataframe tbody tr th:only-of-type {\n",
       "        vertical-align: middle;\n",
       "    }\n",
       "\n",
       "    .dataframe tbody tr th {\n",
       "        vertical-align: top;\n",
       "    }\n",
       "\n",
       "    .dataframe thead th {\n",
       "        text-align: right;\n",
       "    }\n",
       "</style>\n",
       "<table border=\"1\" class=\"dataframe\">\n",
       "  <thead>\n",
       "    <tr style=\"text-align: right;\">\n",
       "      <th></th>\n",
       "      <th>Year</th>\n",
       "      <th>avg_critic_score</th>\n",
       "    </tr>\n",
       "  </thead>\n",
       "  <tbody>\n",
       "    <tr>\n",
       "      <th>0</th>\n",
       "      <td>1982</td>\n",
       "      <td>9.00</td>\n",
       "    </tr>\n",
       "    <tr>\n",
       "      <th>1</th>\n",
       "      <td>1990</td>\n",
       "      <td>9.80</td>\n",
       "    </tr>\n",
       "    <tr>\n",
       "      <th>2</th>\n",
       "      <td>1992</td>\n",
       "      <td>9.67</td>\n",
       "    </tr>\n",
       "    <tr>\n",
       "      <th>3</th>\n",
       "      <td>1993</td>\n",
       "      <td>9.10</td>\n",
       "    </tr>\n",
       "    <tr>\n",
       "      <th>4</th>\n",
       "      <td>1995</td>\n",
       "      <td>9.07</td>\n",
       "    </tr>\n",
       "    <tr>\n",
       "      <th>5</th>\n",
       "      <td>2020</td>\n",
       "      <td>9.20</td>\n",
       "    </tr>\n",
       "  </tbody>\n",
       "</table>\n",
       "</div>"
      ],
      "text/plain": [
       "   Year  avg_critic_score\n",
       "0  1982              9.00\n",
       "1  1990              9.80\n",
       "2  1992              9.67\n",
       "3  1993              9.10\n",
       "4  1995              9.07\n",
       "5  2020              9.20"
      ]
     },
     "execution_count": 22,
     "metadata": {},
     "output_type": "execute_result"
    }
   ],
   "source": [
    "## Select the year and avg_critic_score for those years that dropped off the list of critic favorites \n",
    "## Order the results from highest to lowest avg_critic_score\n",
    "years_dropped_critics_favorites_list = pd.read_sql_query(text('''SELECT *\n",
    "    FROM top_critic_years \n",
    "    WHERE year NOT IN (SELECT year\n",
    "    FROM top_critic_years_more_than_four_games)'''), engine.connect()).drop('index', axis = 1)\n",
    "years_dropped_critics_favorites_list"
   ]
  },
  {
   "cell_type": "markdown",
   "id": "bbd0b5b8-44ec-4759-ae3e-b7e2859029c6",
   "metadata": {},
   "source": [
    "# 6. Years video game players loved\n",
    "It looks like the early 1990s might merit consideration as the golden age of video games based on critic_score alone, but we'd need to gather more games and reviews data to do further analysis.\n",
    "\n",
    "Let's look at the opinions of another important group of people: players! For that I will create a query very similar to the one I used in Task Four, except this one will look at user_score averages by year rather than critic_score averages."
   ]
  },
  {
   "cell_type": "code",
   "execution_count": 23,
   "id": "5f67cd40-d0ed-409d-af97-6512d10c024b",
   "metadata": {},
   "outputs": [
    {
     "data": {
      "text/html": [
       "<div>\n",
       "<style scoped>\n",
       "    .dataframe tbody tr th:only-of-type {\n",
       "        vertical-align: middle;\n",
       "    }\n",
       "\n",
       "    .dataframe tbody tr th {\n",
       "        vertical-align: top;\n",
       "    }\n",
       "\n",
       "    .dataframe thead th {\n",
       "        text-align: right;\n",
       "    }\n",
       "</style>\n",
       "<table border=\"1\" class=\"dataframe\">\n",
       "  <thead>\n",
       "    <tr style=\"text-align: right;\">\n",
       "      <th></th>\n",
       "      <th>year</th>\n",
       "      <th>avg_user_score</th>\n",
       "      <th>num_games</th>\n",
       "    </tr>\n",
       "  </thead>\n",
       "  <tbody>\n",
       "    <tr>\n",
       "      <th>0</th>\n",
       "      <td>2008</td>\n",
       "      <td>4.97</td>\n",
       "      <td>20</td>\n",
       "    </tr>\n",
       "    <tr>\n",
       "      <th>1</th>\n",
       "      <td>2009</td>\n",
       "      <td>4.13</td>\n",
       "      <td>20</td>\n",
       "    </tr>\n",
       "    <tr>\n",
       "      <th>2</th>\n",
       "      <td>2012</td>\n",
       "      <td>4.27</td>\n",
       "      <td>12</td>\n",
       "    </tr>\n",
       "    <tr>\n",
       "      <th>3</th>\n",
       "      <td>2013</td>\n",
       "      <td>4.57</td>\n",
       "      <td>18</td>\n",
       "    </tr>\n",
       "    <tr>\n",
       "      <th>4</th>\n",
       "      <td>2014</td>\n",
       "      <td>5.22</td>\n",
       "      <td>22</td>\n",
       "    </tr>\n",
       "    <tr>\n",
       "      <th>5</th>\n",
       "      <td>2015</td>\n",
       "      <td>6.64</td>\n",
       "      <td>19</td>\n",
       "    </tr>\n",
       "    <tr>\n",
       "      <th>6</th>\n",
       "      <td>2016</td>\n",
       "      <td>6.95</td>\n",
       "      <td>13</td>\n",
       "    </tr>\n",
       "    <tr>\n",
       "      <th>7</th>\n",
       "      <td>2017</td>\n",
       "      <td>6.25</td>\n",
       "      <td>13</td>\n",
       "    </tr>\n",
       "    <tr>\n",
       "      <th>8</th>\n",
       "      <td>2018</td>\n",
       "      <td>7.03</td>\n",
       "      <td>12</td>\n",
       "    </tr>\n",
       "    <tr>\n",
       "      <th>9</th>\n",
       "      <td>2019</td>\n",
       "      <td>5.09</td>\n",
       "      <td>9</td>\n",
       "    </tr>\n",
       "  </tbody>\n",
       "</table>\n",
       "</div>"
      ],
      "text/plain": [
       "   year  avg_user_score  num_games\n",
       "0  2008            4.97         20\n",
       "1  2009            4.13         20\n",
       "2  2012            4.27         12\n",
       "3  2013            4.57         18\n",
       "4  2014            5.22         22\n",
       "5  2015            6.64         19\n",
       "6  2016            6.95         13\n",
       "7  2017            6.25         13\n",
       "8  2018            7.03         12\n",
       "9  2019            5.09          9"
      ]
     },
     "execution_count": 23,
     "metadata": {},
     "output_type": "execute_result"
    }
   ],
   "source": [
    "# Select year, an average of user_score, and a count of games released in a given year, aliased and rounded\n",
    "# Include only years with more than four reviewed games; group data by year\n",
    "# Order data by avg_user_score, and limit to ten results\n",
    "user_score_averages = pd.read_sql_query(text('''SELECT year, \n",
    "    ROUND(AVG(user_score), 2) AS avg_user_score,\n",
    "    COUNT(*) AS num_games\n",
    "    FROM game_sales AS g\n",
    "    INNER JOIN reviews AS r\n",
    "    ON g.game=r.game\n",
    "    GROUP BY year\n",
    "    HAVING COUNT(*) > 4\n",
    "    ORDER BY avg_user_score DESC\n",
    "    LIMIT 10;'''), engine.connect()).sort_values(by =['year']).reset_index(drop='True')\n",
    "user_score_averages"
   ]
  },
  {
   "cell_type": "markdown",
   "id": "717c73f4-47c4-4c95-a920-58a7be21a06b",
   "metadata": {},
   "source": [
    "# 7. Years that both players and critics loved\n",
    "I've got a list of the top ten years according to both critic reviews and user reviews. I will check now if are there any years that showed up on both tables. If so, those years would certainly be excellent ones!\n",
    "I'll also save the results of the top user years query from the previous task into a table."
   ]
  },
  {
   "cell_type": "code",
   "execution_count": 24,
   "id": "36141606-5c41-4ef2-a1b4-be48e6ad757f",
   "metadata": {},
   "outputs": [
    {
     "data": {
      "text/plain": [
       "['game_sales',\n",
       " 'reviews',\n",
       " 'top_critic_years',\n",
       " 'top_critic_years_more_than_four_games',\n",
       " 'top_user_years_more_than_four_games']"
      ]
     },
     "execution_count": 24,
     "metadata": {},
     "output_type": "execute_result"
    }
   ],
   "source": [
    "# Write records stored in a DataFrame to a SQL database\n",
    "user_score_averages.to_sql('top_user_years_more_than_four_games', if_exists = 'replace', con = engine)\n",
    "inspect(engine).get_table_names()"
   ]
  },
  {
   "cell_type": "code",
   "execution_count": 25,
   "id": "e74ce22a-3392-4241-9b0a-332a021c8b4d",
   "metadata": {},
   "outputs": [
    {
     "data": {
      "text/html": [
       "<div>\n",
       "<style scoped>\n",
       "    .dataframe tbody tr th:only-of-type {\n",
       "        vertical-align: middle;\n",
       "    }\n",
       "\n",
       "    .dataframe tbody tr th {\n",
       "        vertical-align: top;\n",
       "    }\n",
       "\n",
       "    .dataframe thead th {\n",
       "        text-align: right;\n",
       "    }\n",
       "</style>\n",
       "<table border=\"1\" class=\"dataframe\">\n",
       "  <thead>\n",
       "    <tr style=\"text-align: right;\">\n",
       "      <th></th>\n",
       "      <th>name</th>\n",
       "      <th>type</th>\n",
       "      <th>notnull</th>\n",
       "      <th>dflt_value</th>\n",
       "      <th>pk</th>\n",
       "    </tr>\n",
       "    <tr>\n",
       "      <th>cid</th>\n",
       "      <th></th>\n",
       "      <th></th>\n",
       "      <th></th>\n",
       "      <th></th>\n",
       "      <th></th>\n",
       "    </tr>\n",
       "  </thead>\n",
       "  <tbody>\n",
       "    <tr>\n",
       "      <th>0</th>\n",
       "      <td>index</td>\n",
       "      <td>BIGINT</td>\n",
       "      <td>0</td>\n",
       "      <td>None</td>\n",
       "      <td>0</td>\n",
       "    </tr>\n",
       "    <tr>\n",
       "      <th>1</th>\n",
       "      <td>year</td>\n",
       "      <td>BIGINT</td>\n",
       "      <td>0</td>\n",
       "      <td>None</td>\n",
       "      <td>0</td>\n",
       "    </tr>\n",
       "    <tr>\n",
       "      <th>2</th>\n",
       "      <td>avg_user_score</td>\n",
       "      <td>FLOAT</td>\n",
       "      <td>0</td>\n",
       "      <td>None</td>\n",
       "      <td>0</td>\n",
       "    </tr>\n",
       "    <tr>\n",
       "      <th>3</th>\n",
       "      <td>num_games</td>\n",
       "      <td>BIGINT</td>\n",
       "      <td>0</td>\n",
       "      <td>None</td>\n",
       "      <td>0</td>\n",
       "    </tr>\n",
       "  </tbody>\n",
       "</table>\n",
       "</div>"
      ],
      "text/plain": [
       "               name    type  notnull dflt_value  pk\n",
       "cid                                                \n",
       "0             index  BIGINT        0       None   0\n",
       "1              year  BIGINT        0       None   0\n",
       "2    avg_user_score   FLOAT        0       None   0\n",
       "3         num_games  BIGINT        0       None   0"
      ]
     },
     "execution_count": 25,
     "metadata": {},
     "output_type": "execute_result"
    }
   ],
   "source": [
    "# Display the name and data type of every column of the new table\n",
    "tabel_content5 = pd.read_sql_query(text('PRAGMA table_info(top_user_years_more_than_four_games)'),\n",
    "                                   engine.connect()).set_index('cid')\n",
    "tabel_content5 "
   ]
  },
  {
   "cell_type": "code",
   "execution_count": 26,
   "id": "2390bfcc-04b2-41bb-812b-cab1c278e86e",
   "metadata": {},
   "outputs": [
    {
     "data": {
      "text/html": [
       "<div>\n",
       "<style scoped>\n",
       "    .dataframe tbody tr th:only-of-type {\n",
       "        vertical-align: middle;\n",
       "    }\n",
       "\n",
       "    .dataframe tbody tr th {\n",
       "        vertical-align: top;\n",
       "    }\n",
       "\n",
       "    .dataframe thead th {\n",
       "        text-align: right;\n",
       "    }\n",
       "</style>\n",
       "<table border=\"1\" class=\"dataframe\">\n",
       "  <thead>\n",
       "    <tr style=\"text-align: right;\">\n",
       "      <th></th>\n",
       "      <th>year</th>\n",
       "    </tr>\n",
       "  </thead>\n",
       "  <tbody>\n",
       "    <tr>\n",
       "      <th>0</th>\n",
       "      <td>2008</td>\n",
       "    </tr>\n",
       "    <tr>\n",
       "      <th>1</th>\n",
       "      <td>2013</td>\n",
       "    </tr>\n",
       "    <tr>\n",
       "      <th>2</th>\n",
       "      <td>2016</td>\n",
       "    </tr>\n",
       "    <tr>\n",
       "      <th>3</th>\n",
       "      <td>2017</td>\n",
       "    </tr>\n",
       "  </tbody>\n",
       "</table>\n",
       "</div>"
      ],
      "text/plain": [
       "   year\n",
       "0  2008\n",
       "1  2013\n",
       "2  2016\n",
       "3  2017"
      ]
     },
     "execution_count": 26,
     "metadata": {},
     "output_type": "execute_result"
    }
   ],
   "source": [
    "# Select the year results that appear on both tables\n",
    "years_that_appear_both_tables = pd.read_sql_query(text('''SELECT u.year\n",
    "    FROM top_critic_years_more_than_four_games AS c\n",
    "    INNER JOIN  top_user_years_more_than_four_games AS u\n",
    "    ON c.year = u.year'''), engine.connect())\n",
    "years_that_appear_both_tables"
   ]
  },
  {
   "cell_type": "markdown",
   "id": "3797d778-f2dd-4bff-ae00-edb320b4372f",
   "metadata": {},
   "source": [
    "# 8. Sales in the best video game years\n",
    "Looks like we've got four years that both users and critics agreed were in the top ten!  We know that critics and players liked these years, but what about video game makers? Were sales good? Let's find out.\n",
    "\n",
    "This time, I won't save the results from the previous task in a new table. Instead, I'll use the query from the previous task as a subquery in this one."
   ]
  },
  {
   "cell_type": "code",
   "execution_count": 27,
   "id": "86e26b8d-fa1a-4f72-bf6f-9f47b067be2b",
   "metadata": {},
   "outputs": [
    {
     "data": {
      "text/html": [
       "<div>\n",
       "<style scoped>\n",
       "    .dataframe tbody tr th:only-of-type {\n",
       "        vertical-align: middle;\n",
       "    }\n",
       "\n",
       "    .dataframe tbody tr th {\n",
       "        vertical-align: top;\n",
       "    }\n",
       "\n",
       "    .dataframe thead th {\n",
       "        text-align: right;\n",
       "    }\n",
       "</style>\n",
       "<table border=\"1\" class=\"dataframe\">\n",
       "  <thead>\n",
       "    <tr style=\"text-align: right;\">\n",
       "      <th></th>\n",
       "      <th>year</th>\n",
       "      <th>total_games_sold</th>\n",
       "    </tr>\n",
       "  </thead>\n",
       "  <tbody>\n",
       "    <tr>\n",
       "      <th>1</th>\n",
       "      <td>2008</td>\n",
       "      <td>175.07</td>\n",
       "    </tr>\n",
       "    <tr>\n",
       "      <th>0</th>\n",
       "      <td>2013</td>\n",
       "      <td>177.23</td>\n",
       "    </tr>\n",
       "    <tr>\n",
       "      <th>3</th>\n",
       "      <td>2016</td>\n",
       "      <td>105.01</td>\n",
       "    </tr>\n",
       "    <tr>\n",
       "      <th>2</th>\n",
       "      <td>2017</td>\n",
       "      <td>174.08</td>\n",
       "    </tr>\n",
       "  </tbody>\n",
       "</table>\n",
       "</div>"
      ],
      "text/plain": [
       "   year  total_games_sold\n",
       "1  2008            175.07\n",
       "0  2013            177.23\n",
       "3  2016            105.01\n",
       "2  2017            174.08"
      ]
     },
     "execution_count": 27,
     "metadata": {},
     "output_type": "execute_result"
    }
   ],
   "source": [
    "# Select year and sum of games_sold, aliased as total_games_sold; order results by total_games_sold descending\n",
    "# Filter game_sales based on whether each year is in the list returned in the previous task\n",
    "sales_best_video_game_years = pd.read_sql_query(text(''' SELECT year, \n",
    "    SUM(games_sold) AS total_games_sold\n",
    "    FROM game_sales\n",
    "    WHERE year IN (SELECT u.year\n",
    "    FROM top_critic_years_more_than_four_games AS c\n",
    "    INNER JOIN  top_user_years_more_than_four_games AS u\n",
    "    ON c.year = u.year)\n",
    "    GROUP BY year\n",
    "    ORDER BY total_games_sold DESC;'''), engine.connect()).sort_values('year')\n",
    "sales_best_video_game_years"
   ]
  },
  {
   "cell_type": "code",
   "execution_count": 28,
   "id": "631a039b-f92a-4904-b49a-59f69f1166d7",
   "metadata": {},
   "outputs": [],
   "source": [
    "# closing the database connection and the csv files\n",
    "connection.close()\n",
    "file1.close()\n",
    "file2.close()"
   ]
  }
 ],
 "metadata": {
  "kernelspec": {
   "display_name": "curs_python_env",
   "language": "python",
   "name": "curs_python_env"
  },
  "language_info": {
   "codemirror_mode": {
    "name": "ipython",
    "version": 3
   },
   "file_extension": ".py",
   "mimetype": "text/x-python",
   "name": "python",
   "nbconvert_exporter": "python",
   "pygments_lexer": "ipython3",
   "version": "3.10.5"
  }
 },
 "nbformat": 4,
 "nbformat_minor": 5
}
